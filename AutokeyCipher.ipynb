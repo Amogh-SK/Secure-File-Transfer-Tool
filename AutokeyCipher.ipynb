{
  "nbformat": 4,
  "nbformat_minor": 0,
  "metadata": {
    "colab": {
      "provenance": [],
      "authorship_tag": "ABX9TyNdgkhVqnF4GFtCsV1J/Ues",
      "include_colab_link": true
    },
    "kernelspec": {
      "name": "python3",
      "display_name": "Python 3"
    },
    "language_info": {
      "name": "python"
    }
  },
  "cells": [
    {
      "cell_type": "markdown",
      "metadata": {
        "id": "view-in-github",
        "colab_type": "text"
      },
      "source": [
        "<a href=\"https://colab.research.google.com/github/Amogh-SK/Secure-File-Transfer-Tool/blob/main/AutokeyCipher.ipynb\" target=\"_parent\"><img src=\"https://colab.research.google.com/assets/colab-badge.svg\" alt=\"Open In Colab\"/></a>"
      ]
    },
    {
      "cell_type": "code",
      "source": [
        "def autokey_encrypt(plaintext, key):\n",
        "    encrypted_text = ''\n",
        "    key_index = 0\n",
        "\n",
        "    for char in plaintext:\n",
        "        if char.isalpha():\n",
        "            key_char = key[key_index % len(key)]\n",
        "            key_index += 1\n",
        "\n",
        "            char_code = ord(char.upper()) - ord('A')\n",
        "            key_code = ord(key_char.upper()) - ord('A')\n",
        "\n",
        "            encrypted_char_code = (char_code + key_code) % 26\n",
        "            encrypted_char = chr(encrypted_char_code + ord('A'))\n",
        "\n",
        "            if char.islower():\n",
        "                encrypted_char = encrypted_char.lower()\n",
        "\n",
        "            encrypted_text += encrypted_char\n",
        "        else:\n",
        "            encrypted_text += char\n",
        "\n",
        "    return encrypted_text\n",
        "\n",
        "def autokey_decrypt(ciphertext, key):\n",
        "    decrypted_text = ''\n",
        "    key_index = 0\n",
        "\n",
        "    for char in ciphertext:\n",
        "        if char.isalpha():\n",
        "            key_char = key[key_index % len(key)]\n",
        "            key_index += 1\n",
        "\n",
        "            char_code = ord(char.upper()) - ord('A')\n",
        "            key_code = ord(key_char.upper()) - ord('A')\n",
        "\n",
        "            decrypted_char_code = (char_code - key_code) % 26\n",
        "            decrypted_char = chr(decrypted_char_code + ord('A'))\n",
        "\n",
        "            if char.islower():\n",
        "                decrypted_char = decrypted_char.lower()\n",
        "\n",
        "            decrypted_text += decrypted_char\n",
        "        else:\n",
        "            decrypted_text += char\n",
        "\n",
        "    return decrypted_text\n"
      ],
      "metadata": {
        "id": "PSyQ1AQ5qtSH"
      },
      "execution_count": null,
      "outputs": []
    },
    {
      "cell_type": "code",
      "source": [
        "def read_file(file_path):\n",
        "    with open(file_path, 'r') as file:\n",
        "        return file.read()\n",
        "\n",
        "def write_file(file_path, content):\n",
        "    with open(file_path, 'w') as file:\n",
        "        file.write(content)\n"
      ],
      "metadata": {
        "id": "kw7rX4lvqukC"
      },
      "execution_count": null,
      "outputs": []
    },
    {
      "cell_type": "code",
      "source": [
        "def main():\n",
        "    file_path = input(\"Enter the path of the text file: \")\n",
        "    plaintext = read_file(file_path)\n",
        "\n",
        "    key = input(\"Enter the key for encryption: \")\n",
        "\n",
        "    # Encrypt the file\n",
        "    ciphertext = autokey_encrypt(plaintext, key)\n",
        "    encrypted_file_path = \"encrypted_file.txt\"\n",
        "    write_file(encrypted_file_path, ciphertext)\n",
        "    print(f\"Encrypted file saved as {encrypted_file_path}\")\n",
        "\n",
        "    decrypt_option = input(\"Do you want to decrypt the file? (yes/no): \")\n",
        "    if decrypt_option.lower() == 'yes':\n",
        "        decrypted_text = autokey_decrypt(ciphertext, key)\n",
        "        decrypted_file_path = \"decrypted_file.txt\"\n",
        "        write_file(decrypted_file_path, decrypted_text)\n",
        "        print(f\"Decrypted file saved as {decrypted_file_path}\")\n",
        "\n",
        "        # Check if the decrypted text matches the original text\n",
        "        if plaintext == decrypted_text:\n",
        "            print(\"Decryption successful! Original text retrieved.\")\n",
        "        else:\n",
        "            print(\"Decryption failed. Original text not retrieved.\")\n",
        "\n",
        "if __name__ == \"__main__\":\n",
        "    main()\n"
      ],
      "metadata": {
        "colab": {
          "base_uri": "https://localhost:8080/"
        },
        "id": "FrpUoXtUqxOY",
        "outputId": "c2a5cb78-2784-4dd6-b5d7-51581119ff3a"
      },
      "execution_count": null,
      "outputs": [
        {
          "output_type": "stream",
          "name": "stdout",
          "text": [
            "Enter the path of the text file: /content/example.txt\n",
            "Enter the key for encryption: hello\n",
            "Encrypted file saved as encrypted_file.txt\n",
            "Do you want to decrypt the file? (yes/no): yes\n",
            "Decrypted file saved as decrypted_file.txt\n",
            "Decryption successful! Original text retrieved.\n"
          ]
        }
      ]
    }
  ]
}